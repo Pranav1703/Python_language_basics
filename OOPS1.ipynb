{
 "cells": [
  {
   "cell_type": "markdown",
   "id": "95eda9b9",
   "metadata": {},
   "source": [
    "# Classes and Objects"
   ]
  },
  {
   "cell_type": "code",
   "execution_count": 1,
   "id": "8398c59d",
   "metadata": {},
   "outputs": [],
   "source": [
    "# pass is a keyword which allows us to execute the code without any errors\n",
    "class Student :\n",
    "        pass"
   ]
  },
  {
   "cell_type": "code",
   "execution_count": 3,
   "id": "4e35db91",
   "metadata": {},
   "outputs": [],
   "source": [
    "class Student :\n",
    "    pass\n",
    "\n",
    "# Created three student objects below\n",
    "s1 = Student()\n",
    "s2 = Student()\n",
    "s3 = Student()\n",
    "\n",
    "s1.name = \"Mohit\"\n",
    "s1.age = 20\n"
   ]
  },
  {
   "cell_type": "code",
   "execution_count": 4,
   "id": "e8ab025a",
   "metadata": {},
   "outputs": [],
   "source": [
    "s2.rollNumber = 101\n"
   ]
  },
  {
   "cell_type": "code",
   "execution_count": 5,
   "id": "d2794991",
   "metadata": {},
   "outputs": [],
   "source": [
    "s3.Age = 21"
   ]
  },
  {
   "cell_type": "code",
   "execution_count": 6,
   "id": "5d5efbcf",
   "metadata": {},
   "outputs": [
    {
     "name": "stdout",
     "output_type": "stream",
     "text": [
      "{'name': 'Mohit', 'age': 20}\n",
      "{'rollNumber': 101}\n",
      "{'Age': 21}\n"
     ]
    }
   ],
   "source": [
    "print(s1.__dict__)\n",
    "print(s2.__dict__)\n",
    "print(s3.__dict__)"
   ]
  },
  {
   "cell_type": "code",
   "execution_count": 10,
   "id": "4dd54854",
   "metadata": {},
   "outputs": [
    {
     "name": "stdout",
     "output_type": "stream",
     "text": [
      "True\n",
      "False\n"
     ]
    }
   ],
   "source": [
    "print(hasattr(s1, \"age\"))\n",
    "print(hasattr(s2, \"name\")) # s2 does not have an attribute called name so it will return false"
   ]
  },
  {
   "cell_type": "code",
   "execution_count": 13,
   "id": "c35c97ca",
   "metadata": {},
   "outputs": [
    {
     "name": "stdout",
     "output_type": "stream",
     "text": [
      "Mohit\n",
      "test\n"
     ]
    },
    {
     "ename": "AttributeError",
     "evalue": "'Student' object has no attribute 'name'",
     "output_type": "error",
     "traceback": [
      "\u001b[0;31m---------------------------------------------------------------------------\u001b[0m",
      "\u001b[0;31mAttributeError\u001b[0m                            Traceback (most recent call last)",
      "\u001b[0;32m/tmp/ipykernel_106684/3665269826.py\u001b[0m in \u001b[0;36m<module>\u001b[0;34m\u001b[0m\n\u001b[1;32m      1\u001b[0m \u001b[0mprint\u001b[0m\u001b[0;34m(\u001b[0m\u001b[0mgetattr\u001b[0m\u001b[0;34m(\u001b[0m\u001b[0ms1\u001b[0m\u001b[0;34m,\u001b[0m \u001b[0;34m\"name\"\u001b[0m\u001b[0;34m)\u001b[0m\u001b[0;34m)\u001b[0m\u001b[0;34m\u001b[0m\u001b[0;34m\u001b[0m\u001b[0m\n\u001b[1;32m      2\u001b[0m \u001b[0mprint\u001b[0m\u001b[0;34m(\u001b[0m\u001b[0mgetattr\u001b[0m\u001b[0;34m(\u001b[0m\u001b[0ms2\u001b[0m\u001b[0;34m,\u001b[0m \u001b[0;34m\"name\"\u001b[0m\u001b[0;34m,\u001b[0m \u001b[0;34m\"test\"\u001b[0m\u001b[0;34m)\u001b[0m\u001b[0;34m)\u001b[0m \u001b[0;31m# An error will be returned as the attribute called name is not present in the object s2\u001b[0m\u001b[0;34m\u001b[0m\u001b[0;34m\u001b[0m\u001b[0m\n\u001b[0;32m----> 3\u001b[0;31m \u001b[0mprint\u001b[0m\u001b[0;34m(\u001b[0m\u001b[0mgetattr\u001b[0m\u001b[0;34m(\u001b[0m\u001b[0ms2\u001b[0m\u001b[0;34m,\u001b[0m \u001b[0;34m\"name\"\u001b[0m\u001b[0;34m)\u001b[0m\u001b[0;34m)\u001b[0m \u001b[0;31m# Default value test will be returned\u001b[0m\u001b[0;34m\u001b[0m\u001b[0;34m\u001b[0m\u001b[0m\n\u001b[0m",
      "\u001b[0;31mAttributeError\u001b[0m: 'Student' object has no attribute 'name'"
     ]
    }
   ],
   "source": [
    "print(getattr(s1, \"name\"))\n",
    "print(getattr(s2, \"name\", \"test\"))# As the property \"name\" does not exist in the object s2, the default value \"test\" will be printed instead of returning an error\n",
    "print(getattr(s2, \"name\")) # An error will be returned as the attribute called name is not present in the object s2"
   ]
  },
  {
   "cell_type": "code",
   "execution_count": 14,
   "id": "b723075f",
   "metadata": {},
   "outputs": [
    {
     "name": "stdout",
     "output_type": "stream",
     "text": [
      "{'age': 20}\n"
     ]
    }
   ],
   "source": [
    "# delattr() function\n",
    "delattr(s1, \"name\") # Deletes the name attribute present in the s1 object\n",
    "print(s1.__dict__) # Returns only age and not name as it is deleted"
   ]
  },
  {
   "cell_type": "code",
   "execution_count": 16,
   "id": "b896d7bb",
   "metadata": {},
   "outputs": [
    {
     "name": "stdout",
     "output_type": "stream",
     "text": [
      "{'age': 23, 'name': 'john Doe', 'gender': 'male'}\n"
     ]
    }
   ],
   "source": [
    "# setattr() function\n",
    "class sampleclass :\n",
    "    pass\n",
    "\n",
    "s4 = sampleclass()\n",
    "setattr(s4, \"age\", 23)\n",
    "setattr(s4, \"name\", \"john Doe\")\n",
    "s4.gender = \"male\"\n",
    "print(s4.__dict__)"
   ]
  },
  {
   "cell_type": "code",
   "execution_count": 18,
   "id": "7db4426c",
   "metadata": {},
   "outputs": [
    {
     "name": "stdout",
     "output_type": "stream",
     "text": [
      "{'__module__': '__main__', '__dict__': <attribute '__dict__' of 'Student' objects>, '__weakref__': <attribute '__weakref__' of 'Student' objects>, '__doc__': None, 'totalStudents': 20}\n"
     ]
    }
   ],
   "source": [
    "# Creating class attributes\n",
    "Student.totalStudents = 20 # This line creates the class attribute called totalStudents of the Student class\n",
    "print(Student.__dict__) # Prints all the pre defined attributes as well as attributes created by us\n",
    "# All classes have these pre defined attributes"
   ]
  },
  {
   "cell_type": "code",
   "execution_count": 28,
   "id": "bfc55575",
   "metadata": {},
   "outputs": [
    {
     "name": "stdout",
     "output_type": "stream",
     "text": [
      "20\n",
      "20\n"
     ]
    }
   ],
   "source": [
    "class Student :\n",
    "    # Class attributes\n",
    "    totalStudents = 20\n",
    "    classTeacherName = 'Komal'\n",
    "    \n",
    "    s1 = Student()\n",
    "    s2 = Student()\n",
    "    s5 = Student()\n",
    "    s6 = Student()\n",
    "    \n",
    "    print(Student.totalStudents) # accessing the class attribute totalStudents through the class Student\n",
    "    print(s1.totalStudents) # We can access a class attribute through an object also\n",
    "    "
   ]
  },
  {
   "cell_type": "code",
   "execution_count": 37,
   "id": "56b5de94",
   "metadata": {},
   "outputs": [
    {
     "name": "stdout",
     "output_type": "stream",
     "text": [
      "Rohan Rohan "
     ]
    }
   ],
   "source": [
    "class Student :\n",
    "    \n",
    "     name = \"Rohan\"\n",
    "     age = 16\n",
    "    \n",
    "s1 = Student()\n",
    "s2 = Student()\n",
    "print(s1.name, end = \" \")\n",
    "print(s2.name, end = \" \")\n"
   ]
  }
 ],
 "metadata": {
  "kernelspec": {
   "display_name": "Python 3 (ipykernel)",
   "language": "python",
   "name": "python3"
  },
  "language_info": {
   "codemirror_mode": {
    "name": "ipython",
    "version": 3
   },
   "file_extension": ".py",
   "mimetype": "text/x-python",
   "name": "python",
   "nbconvert_exporter": "python",
   "pygments_lexer": "ipython3",
   "version": "3.9.13"
  }
 },
 "nbformat": 4,
 "nbformat_minor": 5
}
